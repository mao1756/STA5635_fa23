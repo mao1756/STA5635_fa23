{
 "cells": [
  {
   "cell_type": "code",
   "execution_count": 48,
   "metadata": {},
   "outputs": [],
   "source": [
    "# Import Relevant Packages\n",
    "import pandas as pd\n",
    "import numpy as np\n",
    "import matplotlib.pyplot as plt\n",
    "from sklearn.model_selection import train_test_split\n",
    "from sklearn.metrics import mean_squared_error, r2_score\n",
    "\n",
    "# Import the 'abalone' dataset\n",
    "abalone = pd.read_csv('./abalone.csv', header=None)\n",
    "abalone_x = abalone.iloc[:,:-1]\n",
    "abalone_y = abalone.iloc[:,-1]\n",
    "\n",
    "# Split \n",
    "abalone_x_train, abalone_x_test, abalone_y_train, abalone_y_test = train_test_split(abalone_x,\n",
    "                                                                                    abalone_y,\n",
    "                                                                                    test_size=0.2,\n",
    "                                                                                    shuffle = True,\n",
    "                                                                                    random_state = 0)"
   ]
  },
  {
   "cell_type": "markdown",
   "metadata": {},
   "source": [
    "# Homework 2\n",
    "Author: Mao Nishino\n",
    "\n",
    "## Problem Statement\n",
    "In this problem we use the abalone dataset available on Canvas. The dataset\n",
    "is about predicting the age of the abalone from its physical measurements. Use the first 7 variables as predictors and the 8-th as the response.\n",
    "Report all results as the average of 20 random splits. For each random split divide the data at random into 85% for training and 15% for testing, train the models and compute the training error and the test error (or R2) for that split. Repeat this process 20 times obtaining 20 different random splits of the data and report the average training or test MSE or R2 obtained over the 20 splits for the following models.\n",
    "\n",
    "## Problem (a)\n"
   ]
  },
  {
   "cell_type": "markdown",
   "metadata": {},
   "source": [
    "Null model. Report the average train and test MSE of the null model that always\n",
    "predicts training  ̄y (average training y). (1 point)"
   ]
  },
  {
   "cell_type": "code",
   "execution_count": 49,
   "metadata": {},
   "outputs": [
    {
     "name": "stdout",
     "output_type": "stream",
     "text": [
      "The following table shows the desired MSEs.\n"
     ]
    },
    {
     "data": {
      "text/html": [
       "<div>\n",
       "<style scoped>\n",
       "    .dataframe tbody tr th:only-of-type {\n",
       "        vertical-align: middle;\n",
       "    }\n",
       "\n",
       "    .dataframe tbody tr th {\n",
       "        vertical-align: top;\n",
       "    }\n",
       "\n",
       "    .dataframe thead th {\n",
       "        text-align: right;\n",
       "    }\n",
       "</style>\n",
       "<table border=\"1\" class=\"dataframe\">\n",
       "  <thead>\n",
       "    <tr style=\"text-align: right;\">\n",
       "      <th></th>\n",
       "      <th>Dataset</th>\n",
       "      <th>Mean Squared Error</th>\n",
       "    </tr>\n",
       "  </thead>\n",
       "  <tbody>\n",
       "    <tr>\n",
       "      <th>0</th>\n",
       "      <td>Train</td>\n",
       "      <td>10.272738</td>\n",
       "    </tr>\n",
       "    <tr>\n",
       "      <th>1</th>\n",
       "      <td>Test</td>\n",
       "      <td>10.875555</td>\n",
       "    </tr>\n",
       "  </tbody>\n",
       "</table>\n",
       "</div>"
      ],
      "text/plain": [
       "  Dataset  Mean Squared Error\n",
       "0   Train           10.272738\n",
       "1    Test           10.875555"
      ]
     },
     "execution_count": 49,
     "metadata": {},
     "output_type": "execute_result"
    }
   ],
   "source": [
    "# Calculate the average y-value in the training set\n",
    "y_bar = abalone_y_train.mean()\n",
    "\n",
    "# Create the prediction\n",
    "y_train_pred = np.full(len(abalone_x_train), y_bar)\n",
    "y_test_pred = np.full(len(abalone_x_test), y_bar)\n",
    "\n",
    "# Find the training and the MSEs\n",
    "train_mse = mean_squared_error(abalone_y_train, y_train_pred)\n",
    "test_mse = mean_squared_error(abalone_y_test, y_test_pred)\n",
    "\n",
    "# Create a dataframe to show the result\n",
    "table = {\n",
    "    'Dataset': ['Train', 'Test'],\n",
    "    'Mean Squared Error': [train_mse, test_mse]\n",
    "}\n",
    "\n",
    "print('The following table shows the desired MSEs.')\n",
    "df = pd.DataFrame(table)\n",
    "df\n"
   ]
  },
  {
   "cell_type": "markdown",
   "metadata": {},
   "source": [
    "## Problem (b)\n",
    "OLS regression, analytic, by solving the normal equations, with λ = 0.0001.\n",
    "Report the average training and test R2 and MSE. (2 points)"
   ]
  },
  {
   "cell_type": "code",
   "execution_count": 50,
   "metadata": {},
   "outputs": [
    {
     "name": "stdout",
     "output_type": "stream",
     "text": [
      "The following table shows the desired MSEs and R2s.\n"
     ]
    },
    {
     "data": {
      "text/html": [
       "<div>\n",
       "<style scoped>\n",
       "    .dataframe tbody tr th:only-of-type {\n",
       "        vertical-align: middle;\n",
       "    }\n",
       "\n",
       "    .dataframe tbody tr th {\n",
       "        vertical-align: top;\n",
       "    }\n",
       "\n",
       "    .dataframe thead th {\n",
       "        text-align: right;\n",
       "    }\n",
       "</style>\n",
       "<table border=\"1\" class=\"dataframe\">\n",
       "  <thead>\n",
       "    <tr style=\"text-align: right;\">\n",
       "      <th></th>\n",
       "      <th>Dataset</th>\n",
       "      <th>Mean Squared Error</th>\n",
       "      <th>R squared</th>\n",
       "    </tr>\n",
       "  </thead>\n",
       "  <tbody>\n",
       "    <tr>\n",
       "      <th>0</th>\n",
       "      <td>Train</td>\n",
       "      <td>5.018612</td>\n",
       "      <td>0.511463</td>\n",
       "    </tr>\n",
       "    <tr>\n",
       "      <th>1</th>\n",
       "      <td>Test</td>\n",
       "      <td>5.218919</td>\n",
       "      <td>0.519450</td>\n",
       "    </tr>\n",
       "  </tbody>\n",
       "</table>\n",
       "</div>"
      ],
      "text/plain": [
       "  Dataset  Mean Squared Error  R squared\n",
       "0   Train            5.018612   0.511463\n",
       "1    Test            5.218919   0.519450"
      ]
     },
     "execution_count": 50,
     "metadata": {},
     "output_type": "execute_result"
    }
   ],
   "source": [
    "# Calculate B = X^TX+lambda*I_p\n",
    "B = np.matmul(abalone_x_train.T, abalone_x_train) + 0.0001*np.eye(abalone_x_train.shape[1])\n",
    "\n",
    "# Calculate the coefficients using the normal equation beta = B^{-1}X^T y\n",
    "invBX = np.matmul(np.linalg.inv(B), abalone_x_train.T)\n",
    "beta = np.matmul(invBX, abalone_y_train)\n",
    "\n",
    "# Create predictions\n",
    "y_train_pred = np.matmul(abalone_x_train, beta)\n",
    "y_test_pred = np.matmul(abalone_x_test, beta)\n",
    "\n",
    "# Find the training and the MSEs/R2\n",
    "train_mse = mean_squared_error(abalone_y_train, y_train_pred)\n",
    "test_mse = mean_squared_error(abalone_y_test, y_test_pred)\n",
    "train_r2 = r2_score(abalone_y_train, y_train_pred)\n",
    "test_r2 = r2_score(abalone_y_test, y_test_pred)\n",
    "\n",
    "# Create a dataframe to show the result\n",
    "table = {\n",
    "    'Dataset': ['Train', 'Test'],\n",
    "    'Mean Squared Error': [train_mse, test_mse],\n",
    "    'R squared': [train_r2, test_r2]\n",
    "}\n",
    "\n",
    "print('The following table shows the desired MSEs and R2s.')\n",
    "df = pd.DataFrame(table)\n",
    "df\n"
   ]
  }
 ],
 "metadata": {
  "kernelspec": {
   "display_name": "Python 3",
   "language": "python",
   "name": "python3"
  },
  "language_info": {
   "codemirror_mode": {
    "name": "ipython",
    "version": 3
   },
   "file_extension": ".py",
   "mimetype": "text/x-python",
   "name": "python",
   "nbconvert_exporter": "python",
   "pygments_lexer": "ipython3",
   "version": "3.8.10"
  },
  "orig_nbformat": 4
 },
 "nbformat": 4,
 "nbformat_minor": 2
}
