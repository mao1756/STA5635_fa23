{
  "cells": [
    {
      "cell_type": "code",
      "execution_count": 8,
      "metadata": {
        "id": "4fZYR3tTxRf5"
      },
      "outputs": [],
      "source": [
        "from PIL import Image\n",
        "import scipy as sp\n",
        "import torch\n",
        "import numpy as np\n",
        "import skimage.graph\n",
        "from sklearn.cluster import SpectralClustering\n",
        "import matplotlib.pyplot as plt\n",
        "from IPython.display import display, Markdown"
      ]
    },
    {
      "cell_type": "code",
      "execution_count": 30,
      "metadata": {
        "id": "w2UnIQ1ixRf8",
        "colab": {
          "base_uri": "https://localhost:8080/",
          "height": 482
        },
        "outputId": "28a85ebb-dbd2-4cd0-f792-595d2f4ed724"
      },
      "outputs": [
        {
          "output_type": "stream",
          "name": "stdout",
          "text": [
            "(360,)\n",
            "(360,)\n",
            "1.0\n"
          ]
        },
        {
          "output_type": "display_data",
          "data": {
            "text/plain": [
              "<Figure size 640x480 with 1 Axes>"
            ],
            "image/png": "[encoded data removed]"
          },
          "metadata": {}
        }
      ],
      "source": [
        "SIGMA = 0.6\n",
        "\n",
        "\"\"\" Image Preprocessing\n",
        "Our goal here is to create the affinity matrix.\n",
        "\"\"\"\n",
        "image = Image.open('/content/test_image4.jpg').convert('RGB')\n",
        "width, height = image.size\n",
        "\n",
        "# Create an adjacency matrix of a graph where nodes are pixels\n",
        "# It only considers top/bottom/left/right pixels as a neighbor\n",
        "# Edge weight between i and j is exp(-||x[i] - x[j]||^2/(sigma^2)).\n",
        "# for i!=j, and I(i) for i=j\n",
        "\n",
        "def func(x, y, z):\n",
        "    print(x.shape)\n",
        "    print(y.shape)\n",
        "    return np.exp(-np.abs(x/256 - y/256)**2 / (SIGMA**2))\n",
        "\n",
        "mask = np.ones(image.size).astype(bool)\n",
        "adjacency_matrix, _ = skimage.graph.pixel_graph(np.array(image),\n",
        "                                                mask=mask,\n",
        "                                                edge_function = func)\n",
        "\n",
        "print(adjacency_matrix.max())\n",
        "\n",
        "\n",
        "\"\"\"\n",
        "Spectral Clustering\n",
        "\"\"\"\n",
        "\n",
        "# Create a spectral clustering object\n",
        "spec = SpectralClustering(n_clusters=3, affinity='precomputed')\n",
        "\n",
        "# Perform spectral clustering\n",
        "spec.fit(adjacency_matrix)\n",
        "\n",
        "# Construct label image\n",
        "label_image = spec.labels_.reshape(width, height)\n",
        "\n",
        "# Display the label image\n",
        "plt.imshow(label_image)\n",
        "plt.show()"
      ]
    }
  ],
  "metadata": {
    "kernelspec": {
      "display_name": "Python 3",
      "name": "python3"
    },
    "language_info": {
      "codemirror_mode": {
        "name": "ipython",
        "version": 3
      },
      "file_extension": ".py",
      "mimetype": "text/x-python",
      "name": "python",
      "nbconvert_exporter": "python",
      "pygments_lexer": "ipython3",
      "version": "3.8.10"
    },
    "colab": {
      "provenance": [],
      "machine_shape": "hm"
    }
  },
  "nbformat": 4,
  "nbformat_minor": 0
}