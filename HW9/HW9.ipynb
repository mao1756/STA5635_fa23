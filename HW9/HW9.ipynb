{
  "cells": [
    {
      "cell_type": "code",
      "execution_count": 1,
      "metadata": {
        "id": "4fZYR3tTxRf5"
      },
      "outputs": [],
      "source": [
        "from PIL import Image\n",
        "import scipy as sp\n",
        "import numpy as np\n",
        "from sklearn.cluster import SpectralClustering\n",
        "import matplotlib.pyplot as plt\n",
        "from IPython.display import display, Markdown"
      ]
    },
    {
      "cell_type": "code",
      "execution_count": 2,
      "metadata": {
        "id": "w2UnIQ1ixRf8"
      },
      "outputs": [],
      "source": [
        "\"\"\" Image Preprocessing\n",
        "Our goal here is to create a sparse matrix of shape (# pixels, 3) where\n",
        "each row represents each pixel (ordered row wise) and each column repr-\n",
        "-esents each of R,G,B values.\n",
        "\"\"\"\n",
        "image = Image.open('/content/test_image3.png').convert('RGB')\n",
        "image_array = np.array(image).reshape(-1, 3)\n",
        "# Make it sparse\n",
        "sp_image_array = sp.sparse.csr_matrix(image_array)"
      ]
    },
    {
      "cell_type": "code",
      "execution_count": 46,
      "metadata": {
        "id": "uCKguDCZxRf-"
      },
      "outputs": [],
      "source": [
        "\"\"\" Spectral Clustering\n",
        "\"\"\"\n",
        "spec = SpectralClustering(n_clusters = 3, eigen_solver='arpack', affinity='rbf', gamma=0.001)\n",
        "pred = spec.fit_predict(image_array)"
      ]
    },
    {
      "cell_type": "code",
      "source": [
        "plt.imshow(pred.reshape(32,32))"
      ],
      "metadata": {
        "id": "Mx2hw-6yKx9J",
        "outputId": "52f363e6-7ead-4454-b256-a72b42096955",
        "colab": {
          "base_uri": "https://localhost:8080/",
          "height": 447
        }
      },
      "execution_count": 47,
      "outputs": [
        {
          "output_type": "execute_result",
          "data": {
            "text/plain": [
              "<matplotlib.image.AxesImage at 0x7d8c41e7a4d0>"
            ]
          },
          "metadata": {},
          "execution_count": 47
        },
        {
          "output_type": "display_data",
          "data": {
            "text/plain": [
              "<Figure size 640x480 with 1 Axes>"
            ],
            "image/png": "[encoded data removed]"
          },
          "metadata": {}
        }
      ]
    }
  ],
  "metadata": {
    "kernelspec": {
      "display_name": "Python 3",
      "name": "python3"
    },
    "language_info": {
      "codemirror_mode": {
        "name": "ipython",
        "version": 3
      },
      "file_extension": ".py",
      "mimetype": "text/x-python",
      "name": "python",
      "nbconvert_exporter": "python",
      "pygments_lexer": "ipython3",
      "version": "3.8.10"
    },
    "colab": {
      "provenance": [],
      "machine_shape": "hm",
      "gpuType": "A100"
    }
  },
  "nbformat": 4,
  "nbformat_minor": 0
}