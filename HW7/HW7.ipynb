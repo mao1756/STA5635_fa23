{
 "cells": [
  {
   "cell_type": "markdown",
   "metadata": {},
   "source": [
    "# Homework 7\n",
    "Author: Mao Nishino\n",
    "\n",
    "Download the image horse025b.png from Canvas, containing an image of a horse shape of size 84 ×128 pixels. The goal of this project is to train a regression Neural Network to predict the value\n",
    "of a pixel $I(x, y)$ given its coordinates $(x, y)$. We will use the square loss functions on\n",
    "the training examples $(x_i, y_i, I(x_i, y_i)), i = 1, \\cdots , n$:\n",
    "$\\begin{equation} S(\\bf{w})= \\frac{1}{n}\\sum_{i=1}^{n}(I(x_i-y_i)-f_{\\textbf{w}}(x_i,y_i))^2\\end{equation}$\n",
    "where $(x_i, y_i) \\in \\{1, \\cdots , 84\\}\\times \\{1, \\cdots , 128\\}$ are all $n = 128 \\cdot 84 = 10752$ pixels of the\n",
    "image.\n",
    "All NNs $f_w(x, y)$ we will train have a 2D input (x, y) and a 1D output, but we will\n",
    "experiment with different numbers of hidden layers.\n",
    "Try to use a GPU and CUDA for faster training. If you want, for better convergence,\n",
    "you could try to standardize the inputs $(x_i, y_i)$ to have zero means and std 1, and the\n",
    "outputs to have zero mean."
   ]
  },
  {
   "cell_type": "code",
   "execution_count": 1,
   "metadata": {},
   "outputs": [
    {
     "name": "stdout",
     "output_type": "stream",
     "text": [
      "The calculation was done using cpu\n"
     ]
    }
   ],
   "source": [
    "# Import Relevant Libraries\n",
    "from PIL import Image\n",
    "import torch\n",
    "import torchvision\n",
    "import numpy as np\n",
    "from sklearn.preprocessing import StandardScaler\n",
    "import matplotlib.pyplot as plt\n",
    "from IPython.display import display, Markdown\n",
    "\n",
    "# Determine the device\n",
    "device = (\n",
    "    \"cuda\"\n",
    "    if torch.cuda.is_available()\n",
    "    else \"mps\"\n",
    "    if torch.backends.mps.is_available()\n",
    "    else \"cpu\"\n",
    "    )\n",
    "print(f\"The calculation was done using {device}\")"
   ]
  },
  {
   "cell_type": "code",
   "execution_count": 4,
   "metadata": {},
   "outputs": [],
   "source": [
    "EPOCHS = 300\n",
    "BATCHSIZE = 64\n",
    "LEARN_RATE = 0.003\n",
    "\n",
    "class NeuralNetwork(torch.nn.Module):\n",
    "    def __init__(self,\n",
    "                 hidden_layers: torch.nn.Sequential):\n",
    "        super().__init__()\n",
    "        self.hidden_layers = hidden_layers\n",
    "\n",
    "    def forward(self, x):\n",
    "        x = self.hidden_layers(x)\n",
    "        return x\n",
    "    \n",
    "class HW7():\n",
    "    \"\"\" The class that achieves everything needed for the HW\n",
    "    \"\"\"\n",
    "    def __init__(self,\n",
    "                 hidden_layers: torch.nn.Sequential,\n",
    "                 isdisplay = True):\n",
    "        \"\"\"\n",
    "        Args:\n",
    "            hidden_layers: Hidden layers used in training\n",
    "            display: if True, outputs training progress\n",
    "        \"\"\"\n",
    "        self.isdisplay = isdisplay\n",
    "\n",
    "        # Data Preprocessing - Horse Image\n",
    "        horse_image = Image.open(\"./horse025b.png\").convert(\"L\")\n",
    "        to_tensor = torchvision.transforms.ToTensor()\n",
    "        horse_tensor = to_tensor(horse_image)\n",
    "        flat_horse = horse_tensor.flatten()\n",
    "        horse_scaler = StandardScaler()\n",
    "        std_flat_horse = horse_scaler.fit_transform(flat_horse.reshape(-1,1))\n",
    "        std_flat_horse = torch.tensor(std_flat_horse).squeeze().float()\n",
    "        assert not std_flat_horse.isnan().any()\n",
    "\n",
    "        # Data Preprocessing - Coordinates\n",
    "        height, width = horse_tensor.squeeze().shape\n",
    "        coordinates = torch.tensor([(x,y) for x in range(width) for y in range(height)])\n",
    "        coordinate_scaler = StandardScaler(with_std = False)\n",
    "        std_coordinates = coordinate_scaler.fit_transform(coordinates)\n",
    "        std_coordinates = torch.tensor(std_coordinates).float()\n",
    "        assert not std_coordinates.isnan().any()\n",
    "\n",
    "        # Couple the input-output pair\n",
    "        coordinate_horse = list(zip(std_coordinates, std_flat_horse))\n",
    "        self.data_loader = torch.utils.data.DataLoader(\n",
    "            coordinate_horse,\n",
    "            batch_size = BATCHSIZE\n",
    "        )\n",
    "\n",
    "        # Define Training Specifics\n",
    "        self.neural_net = NeuralNetwork(hidden_layers).to(device)\n",
    "        self.optimizer = torch.optim.SGD(self.neural_net.parameters(),\n",
    "                                         lr = LEARN_RATE)\n",
    "        self.loss_fn = torch.nn.MSELoss()\n",
    "        self.scheduler = torch.torch.optim.lr_scheduler.StepLR(\n",
    "            self.optimizer,\n",
    "            step_size = 100,\n",
    "            gamma = 0.5\n",
    "        )\n",
    "        self.losses = []\n",
    "        \n",
    "        # Training loop\n",
    "        \n",
    "        for epoch in range(EPOCHS):\n",
    "            if isdisplay:\n",
    "                print(f\"----- Epoch {epoch+1} -----\")\n",
    "            self.losses.append(self.train_loop())\n",
    "            self.scheduler.step()\n",
    "        if isdisplay: print('Training Done')\n",
    "\n",
    "        # Reconstruct Image\n",
    "        with torch.no_grad():\n",
    "            std_intensities = self.neural_net(std_coordinates)\n",
    "            intensities =  (horse_scaler.inverse_transform(std_intensities)*255).astype(np.uint8)\n",
    "            reconstructed_horse = Image.fromarray(intensities.reshape(height, width))\n",
    "\n",
    "        # Show plots and images\n",
    "        display(Markdown('The following plot shows the epochs vs the training loss.'))\n",
    "        plt.figure(figsize = (10,6))\n",
    "        plt.plot(range(1,EPOCHS+1), self.losses, marker = 'o',label = 'Training Loss')\n",
    "        plt.xlabel('Epochs')\n",
    "        plt.ylabel('Loss')\n",
    "        plt.title('Epochs vs Training Loss')\n",
    "        plt.legend()\n",
    "        plt.grid(True)\n",
    "        plt.show()\n",
    "        display(Markdown('The following is the reconstructed image.'))\n",
    "        reconstructed_horse.show()\n",
    "\n",
    "    def train_loop(self):\n",
    "        \"\"\" One epoch in the training\n",
    "        \"\"\"\n",
    "        data_size = len(self.data_loader.dataset)\n",
    "        self.neural_net.train() # Not needed, but for best practice\n",
    "        for batch, (X,y) in enumerate(self.data_loader):\n",
    "\n",
    "            # Compute predicteion and loss (Forward pass)\n",
    "            if torch.isnan(X).any():\n",
    "                raise ValueError(\"NaN values found in inputs!\")\n",
    "            pred = self.neural_net(X).squeeze() # invokes 'foward' method\n",
    "            if torch.isnan(pred).any():\n",
    "                raise ValueError(\"NaN values found in predictions!\")\n",
    "            loss = self.loss_fn(pred, y)\n",
    "            if torch.isnan(loss).any():\n",
    "                raise ValueError(\"NaN values found in loss!\")\n",
    "\n",
    "            # Backpropagation\n",
    "            loss.backward()\n",
    "            torch.nn.utils.clip_grad_norm_(self.neural_net.parameters(), max_norm=100.)\n",
    "            self.optimizer.step()\n",
    "            # Ensure we don't accumulate the gradient\n",
    "            self.optimizer.zero_grad()\n",
    "\n",
    "            if batch % 50 == 0 and self.isdisplay:\n",
    "                lossvalue, current = loss.item(), (batch+1)*len(X)\n",
    "                print(f\"loss: {lossvalue:>2f} [{current}][{data_size}]\")\n",
    "        return loss.item()"
   ]
  },
  {
   "cell_type": "markdown",
   "metadata": {},
   "source": [
    "# Problem (a)\n",
    "Train a NN with one hidden layer containing 128 neurons, followed by ReLU.\n",
    "Train the NN for 300 epochs using the square loss (1). Use the SGD optimizer\n",
    "with minibatch size 64, and an appropriate learning rate (e.g. 0.003). Reduce the\n",
    "learning rate to half every 100 epochs. Show a plot of the loss function vs epoch\n",
    "number. Display the image reconstructed from the trained NN fw(i, j), i ∈\n",
    "{1, ..., 84}, j ∈{1, ..., 128}. (2 points)"
   ]
  },
  {
   "cell_type": "code",
   "execution_count": 7,
   "metadata": {},
   "outputs": [
    {
     "data": {
      "text/markdown": [
       "The following plot shows the epochs vs the training loss."
      ],
      "text/plain": [
       "<IPython.core.display.Markdown object>"
      ]
     },
     "metadata": {},
     "output_type": "display_data"
    },
    {
     "data": {
      "image/png": "[encoded data removed]",
      "text/plain": [
       "<Figure size 1000x600 with 1 Axes>"
      ]
     },
     "metadata": {},
     "output_type": "display_data"
    },
    {
     "data": {
      "text/markdown": [
       "The following is the reconstructed image."
      ],
      "text/plain": [
       "<IPython.core.display.Markdown object>"
      ]
     },
     "metadata": {},
     "output_type": "display_data"
    },
    {
     "data": {
      "image/png": "[encoded data removed]",
      "text/plain": [
       "<PIL.Image.Image image mode=L size=128x84>"
      ]
     },
     "metadata": {},
     "output_type": "display_data"
    }
   ],
   "source": [
    "hidden_layers = torch.nn.Sequential(\n",
    "    torch.nn.Linear(2,128),\n",
    "    torch.nn.ReLU(),\n",
    "    torch.nn.Linear(128,1)\n",
    ")\n",
    "\n",
    "torch.autograd.set_detect_anomaly(True)\n",
    "hw = HW7(hidden_layers, isdisplay=False)"
   ]
  },
  {
   "cell_type": "markdown",
   "metadata": {},
   "source": [
    "# Problem (b)\n",
    "Repeat point a) with a NN with two hidden layers, first one with 32 neurons and\n",
    "second one with 128 neurons, each followed by ReLU. (2 points)"
   ]
  },
  {
   "cell_type": "code",
   "execution_count": null,
   "metadata": {},
   "outputs": [],
   "source": [
    "hidden_layers = torch.nn.Sequential(\n",
    "    torch.nn.Linear(2,32),\n",
    "    torch.nn.ReLU(),\n",
    "    torch.nn.Linear(32,128),\n",
    "    torch.nn.ReLU(),\n",
    "    torch.nn.Linear(128,1)\n",
    ")\n",
    "\n",
    "torch.autograd.set_detect_anomaly(True)\n",
    "hw = HW7(hidden_layers, isdisplay=False)"
   ]
  },
  {
   "cell_type": "markdown",
   "metadata": {},
   "source": [
    "# Problem (c)\n",
    "Repeat point a) with a NN with three hidden layers, with 32, 64 and 128 neurons\n",
    "respectively, each followed by ReLU. (2 points)"
   ]
  },
  {
   "cell_type": "code",
   "execution_count": null,
   "metadata": {},
   "outputs": [],
   "source": [
    "hidden_layers = torch.nn.Sequential(\n",
    "    torch.nn.Linear(2,32),\n",
    "    torch.nn.ReLU(),\n",
    "    torch.nn.Linear(32,64),\n",
    "    torch.nn.ReLU(),\n",
    "    torch.nn.Linear(64,128),\n",
    "    torch.nn.ReLU(),\n",
    "    torch.nn.Linear(128,1)\n",
    ")\n",
    "\n",
    "torch.autograd.set_detect_anomaly(True)\n",
    "hw = HW7(hidden_layers, isdisplay=False)"
   ]
  },
  {
   "cell_type": "markdown",
   "metadata": {},
   "source": [
    "# Problem (d)\n",
    " Repeat point a) with a NN with four hidden layers, with 32, 64, 128 and 128\n",
    "neurons respectively, each followed by ReLU. (3 points)"
   ]
  },
  {
   "cell_type": "code",
   "execution_count": null,
   "metadata": {},
   "outputs": [],
   "source": [
    "hidden_layers = torch.nn.Sequential(\n",
    "    torch.nn.Linear(2,32),\n",
    "    torch.nn.ReLU(),\n",
    "    torch.nn.Linear(32,64),\n",
    "    torch.nn.ReLU(),\n",
    "    torch.nn.Linear(64,128),\n",
    "    torch.nn.ReLU(),\n",
    "    torch.nn.Linear(128,128),\n",
    "    torch.nn.ReLU(),\n",
    "    torch.nn.Linear(128,1)\n",
    ")\n",
    "\n",
    "torch.autograd.set_detect_anomaly(True)\n",
    "hw = HW7(hidden_layers, isdisplay=False)"
   ]
  }
 ],
 "metadata": {
  "kernelspec": {
   "display_name": "Python 3",
   "language": "python",
   "name": "python3"
  },
  "language_info": {
   "codemirror_mode": {
    "name": "ipython",
    "version": 3
   },
   "file_extension": ".py",
   "mimetype": "text/x-python",
   "name": "python",
   "nbconvert_exporter": "python",
   "pygments_lexer": "ipython3",
   "version": "3.8.10"
  }
 },
 "nbformat": 4,
 "nbformat_minor": 2
}
